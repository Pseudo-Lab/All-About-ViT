{
 "cells": [
  {
   "cell_type": "markdown",
   "metadata": {},
   "source": [
    "# Pyramid Vision Transformer Code"
   ]
  },
  {
   "cell_type": "code",
   "execution_count": null,
   "metadata": {},
   "outputs": [],
   "source": [
    "import torch\n",
    "import torch.nn as nn\n",
    "import torch.nn.functional as F\n",
    "\n",
    "import numpy as np"
   ]
  },
  {
   "cell_type": "markdown",
   "metadata": {},
   "source": [
    "## MLP"
   ]
  },
  {
   "cell_type": "code",
   "execution_count": null,
   "metadata": {},
   "outputs": [],
   "source": [
    "class MLP(nn.Module):\n",
    "  def __init__(self, in_channel, hidden_features):\n",
    "    super().__init__()\n",
    "    hidden_features = hidden_features if hidden_features is not None else in_channel\n",
    "    self.fc1 = nn.Linear(in_channel, hidden_features)\n",
    "    self.act = nn.GELU()\n",
    "    self.fc2 = nn.Linear(hidden_features, in_channel)\n",
    "    \n",
    "  def forward(self, x):\n",
    "    x = self.fc1(x)\n",
    "    x = self.act(x)\n",
    "    x = self.fc2(x)\n",
    "    return x"
   ]
  },
  {
   "cell_type": "markdown",
   "metadata": {},
   "source": [
    "## Attention"
   ]
  },
  {
   "cell_type": "code",
   "execution_count": null,
   "metadata": {},
   "outputs": [],
   "source": [
    "class Attention(nn.Module):\n",
    "  def __init__(self, input_dim, num_heads=8, qk_scale=None, attn_drop=0, proj_drop=0, sr_scale=1):\n",
    "    super().__init__()\n",
    "\n",
    "    self.dim = input_dim\n",
    "    self.num_heads = num_heads\n",
    "    head_dim = input_dim // num_heads # dimension of each head\n",
    "    \n",
    "    self.scale = qk_scale if qk_scale is not None else np.math.sqrt(head_dim)\n",
    "\n",
    "    self.q = nn.Linear(self.dim, self.dim)\n",
    "    self.kv = nn.Linear(self.dim, self.dim * 2)\n",
    "\n",
    "    self.proj = nn.Linear(self.dim, self.dim)\n",
    "\n",
    "    self.sr_scale = sr_scale\n",
    "    if sr_scale > 1:\n",
    "      self.sr = nn.Conv2d(self.dim, self.dim, kernel_size=sr_scale, stride=sr_scale)\n",
    "      self.norm = nn.LayerNorm(self.dim)\n",
    "    \n",
    "  def forward(self, x, H, W):\n",
    "      B, N, C = x.shape\n",
    "      q = self.q(x).reshape(B, N, self.num_heads, C // self.num_heads).permute(0, 2, 1, 3)\n",
    "      \n",
    "      if self.sr_scale > 1:\n",
    "        x_ = x.permute(0, 2, 1).reshape(B, C, H, W)\n",
    "        x_ = self.sr(x_).reshape(B, C, -1).permute(0, 2, 1)\n",
    "        x_ = self.norm(x_)\n",
    "        kv = self.kv(x_).reshape(B, -1, 2, self.num_heads, C // self.num_heads).permute(2, 0, 3, 1, 4)\n",
    "      else:\n",
    "        kv = self.kv(x).reshape(B, -1, 2, self.num_heads, C // self.num_heads).permute(2, 0, 3, 1, 4)\n",
    "      k, v = kv[0], kv[1]\n",
    "\n",
    "      attn = torch.matmul(q, k.transpose(-2, -1)) * self.scale\n",
    "      attn = attn.softmax(dim=-1)\n",
    "      x = torch.matmul(attn, v).reshape(B, N, C)\n",
    "      x = self.proj(x)\n",
    "\n",
    "      return x"
   ]
  },
  {
   "cell_type": "code",
   "execution_count": null,
   "metadata": {},
   "outputs": [],
   "source": [
    "class PatchEmbed(nn.Module):\n",
    "  def __init__(self, img_size=224, patch_size=16, in_channel=3, embed_dim=768):\n",
    "    super().__init__()\n",
    "    self.img_size = (img_size, img_size)\n",
    "    self.patch_size = (patch_size, patch_size)\n",
    "\n",
    "    self.H, self.W = self.img_size[0] // self.patch_size[0], self.img_size[1] // self.patch_size[1] # number of patch(width, height)\n",
    "    self.num_patches = self.H * self.W # number of patches\n",
    "    self.proj = nn.Conv2d(in_channel, embed_dim, kernel_size=self.patch_size, stride=self.patch_size)\n",
    "    self.norm = nn.LayerNorm(embed_dim)\n",
    "\n",
    "  def forward(self, x):\n",
    "    \"\"\"\n",
    "    input : x -> feature map of image\n",
    "    output : x -> output feature map, (H, W) -> number of patch(height, weight)\n",
    "    \"\"\"\n",
    "    B, C, H, W = x.shape\n",
    "    x = self.proj(x).flatten(2).transpose(1, 2)\n",
    "    x = self.norm(x)\n",
    "    H, W = H // self.patch_size[0], W // self.patch_size[1]\n",
    "\n",
    "    return x, (H, W)"
   ]
  },
  {
   "cell_type": "markdown",
   "metadata": {},
   "source": [
    "## Block"
   ]
  },
  {
   "cell_type": "code",
   "execution_count": null,
   "metadata": {},
   "outputs": [],
   "source": [
    "class Block(nn.Module):\n",
    "  def __init__(self, dim, num_heads, mlp_ratio = 4, qk_scale = None, sr_scale=1):\n",
    "    super().__init__()\n",
    "    self.dim = dim\n",
    "    self.norm1 = nn.LayerNorm(dim)\n",
    "    self.attn = Attention(dim, num_heads = num_heads, qk_scale=qk_scale, sr_scale=sr_scale)\n",
    "    self.norm2 = nn.LayerNorm(dim)\n",
    "\n",
    "    mlp_hidden_dim = int(dim * mlp_ratio)\n",
    "    self.mlp = MLP(in_channel=dim, hidden_features=mlp_hidden_dim)\n",
    "\n",
    "  def forward(self, x, H, W):\n",
    "    x = self.norm1(x)\n",
    "    x = x + self.attn(x, H, W)\n",
    "\n",
    "    x = self.norm2(x)\n",
    "    x = x + self.mlp(x)\n",
    "    return x"
   ]
  },
  {
   "cell_type": "markdown",
   "metadata": {},
   "source": [
    "## PyramidVisionTransformer"
   ]
  },
  {
   "cell_type": "code",
   "execution_count": null,
   "metadata": {},
   "outputs": [],
   "source": [
    "class PyramidVisionTransformer(nn.Module):\n",
    "  def __init__(self, img_size=224, patch_size=16, in_channel=3, num_classes=1000, embed_dims=[64, 128, 256, 512], num_heads=[1, 2, 4, 8], mlp_ratios=[4, 4, 4, 4], qk_scale=None, depths=[3, 4, 6, 3], sr_scales=[8, 4, 2, 1]):\n",
    "    super().__init__()\n",
    "    self.num_classes = num_classes\n",
    "    self.depths = depths\n",
    "\n",
    "    # patch embedding\n",
    "    self.patch_embed1 = PatchEmbed(img_size=img_size, patch_size=patch_size, in_channel=in_channel, embed_dim=embed_dims[0])\n",
    "    self.patch_embed2 = PatchEmbed(img_size=img_size // 4, patch_size=2, in_channel=embed_dims[0], embed_dim=embed_dims[1])\n",
    "    self.patch_embed3 = PatchEmbed(img_size=img_size // 8, patch_size=2, in_channel=embed_dims[1], embed_dim=embed_dims[2])\n",
    "    self.patch_embed4 = PatchEmbed(img_size=img_size // 16, patch_size=2, in_channel=embed_dims[2], embed_dim=embed_dims[3])\n",
    "\n",
    "    # position embedding\n",
    "    self.pos_embed1 = nn.Parameter(torch.randn(1, self.patch_embed1.num_patches, embed_dims[0]))\n",
    "    self.pos_embed2 = nn.Parameter(torch.randn(1, self.patch_embed2.num_patches, embed_dims[1]))\n",
    "    self.pos_embed3 = nn.Parameter(torch.randn(1, self.patch_embed3.num_patches, embed_dims[2]))\n",
    "    self.pos_embed4 = nn.Parameter(torch.randn(1, self.patch_embed4.num_patches + 1, embed_dims[3]))\n",
    "\n",
    "    self.block1 = nn.ModuleList([Block(\n",
    "        dim=embed_dims[0], num_heads=num_heads[0], mlp_ratio=mlp_ratios[0], qk_scale=qk_scale, sr_scale=sr_scales[0]\n",
    "    ) for _ in range(depths[0])])\n",
    "\n",
    "    self.block2 = nn.ModuleList([Block(\n",
    "        dim=embed_dims[1], num_heads=num_heads[1], mlp_ratio=mlp_ratios[1], qk_scale=qk_scale, sr_scale=sr_scales[1]   \n",
    "    ) for _ in range(depths[1])])\n",
    "    \n",
    "    self.block3 = nn.ModuleList([Block(\n",
    "        dim=embed_dims[2], num_heads=num_heads[2], mlp_ratio=mlp_ratios[2], qk_scale=qk_scale, sr_scale=sr_scales[2]   \n",
    "    ) for _ in range(depths[2])])\n",
    "    \n",
    "    self.block4 = nn.ModuleList([Block(\n",
    "        dim=embed_dims[3], num_heads=num_heads[3], mlp_ratio=mlp_ratios[3], qk_scale=qk_scale, sr_scale=sr_scales[3]   \n",
    "    ) for _ in range(depths[3])])\n",
    "\n",
    "    self.norm = nn.LayerNorm(embed_dims[3])\n",
    "    \n",
    "    self.cls_token = nn.Parameter(torch.zeros(1, 1, embed_dims[3]))\n",
    "    \n",
    "    self.head = nn.Linear(embed_dims[3], num_classes) if num_classes > 0 else nn.Identity()\n",
    "\n",
    "  def forward(self, x):\n",
    "    # STEP1 - embedding\n",
    "    B = x.shape[0]\n",
    "\n",
    "    #stage 1\n",
    "    print('stage1 :', x.shape)\n",
    "    x, (H, W) = self.patch_embed1(x)\n",
    "    x = x + self.pos_embed1\n",
    "    for blk in self.block1:\n",
    "      x = blk(x, H, W)\n",
    "    x = x.reshape(B, H, W, -1).permute(0, 3, 1, 2).contiguous()\n",
    "\n",
    "    # stage 2\n",
    "    print('stage2 :', x.shape)\n",
    "    x, (H, W) = self.patch_embed2(x)\n",
    "    x = x + self.pos_embed2\n",
    "    for blk in self.block2:\n",
    "      x = blk(x, H, W)\n",
    "    x = x.reshape(B, H, W, -1).permute(0, 3, 1, 2).contiguous()\n",
    "\n",
    "\n",
    "    # stage 3\n",
    "    print('stage3 :', x.shape)\n",
    "    x, (H, W) = self.patch_embed3(x)\n",
    "    x = x + self.pos_embed3\n",
    "    for blk in self.block3:\n",
    "      x = blk(x, H, W)\n",
    "    x = x.reshape(B, H, W, -1).permute(0, 3, 1, 2).contiguous()\n",
    "\n",
    "    # stage 4\n",
    "    print('stage4 :', x.shape)\n",
    "    x, (H, W) = self.patch_embed4(x)\n",
    "    cls_tokens = self.cls_token.expand(B, -1, -1)\n",
    "    x = torch.cat((cls_tokens, x), dim=1)\n",
    "    x = x + self.pos_embed4\n",
    "    for blk in self.block4:\n",
    "      x = blk(x, H, W)\n",
    "    x = self.norm(x)\n",
    "    x = x[:, 0]\n",
    "\n",
    "    x = self.head(x)\n",
    "    return x\n"
   ]
  },
  {
   "cell_type": "markdown",
   "metadata": {},
   "source": [
    "## PvT-Tiny"
   ]
  },
  {
   "cell_type": "code",
   "execution_count": null,
   "metadata": {},
   "outputs": [],
   "source": [
    "def PVT_Tiny():\n",
    "  model = PyramidVisionTransformer(\n",
    "      patch_size=4, embed_dims=[64, 128, 320, 512], num_heads=[1, 2, 5, 8], mlp_ratios=[8, 8, 4, 4], depths=[2, 2, 2, 2]\n",
    "      , sr_scales=[8, 4, 2, 1])\n",
    "  return model"
   ]
  },
  {
   "cell_type": "markdown",
   "metadata": {},
   "source": [
    "---\n",
    "\n",
    "Author by `지승환`  \n",
    "Edit by `김주영`"
   ]
  }
 ],
 "metadata": {
  "kernelspec": {
   "display_name": "Python 3.10.4 64-bit",
   "language": "python",
   "name": "python3"
  },
  "language_info": {
   "name": "python",
   "version": "3.10.4"
  },
  "orig_nbformat": 4,
  "vscode": {
   "interpreter": {
    "hash": "aee8b7b246df8f9039afb4144a1f6fd8d2ca17a180786b69acc140d282b71a49"
   }
  }
 },
 "nbformat": 4,
 "nbformat_minor": 2
}
