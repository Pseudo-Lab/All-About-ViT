{
 "cells": [
  {
   "attachments": {},
   "cell_type": "markdown",
   "metadata": {},
   "source": [
    "# Swin Transformer Code"
   ]
  },
  {
   "attachments": {},
   "cell_type": "markdown",
   "metadata": {},
   "source": [
    "- [https://github.com/rwightman/pytorch-image-models/blob/main/timm/models/swin_transformer.py#L134](https://github.com/rwightman/pytorch-image-models/blob/main/timm/models/swin_transformer.py#L134)\n",
    "- [https://github.com/yhy258/SwinTransformer_nonmask](https://github.com/yhy258/SwinTransformer_nonmask)"
   ]
  },
  {
   "attachments": {},
   "cell_type": "markdown",
   "metadata": {},
   "source": [
    "## SwinTransformer"
   ]
  },
  {
   "cell_type": "code",
   "execution_count": null,
   "metadata": {},
   "outputs": [],
   "source": [
    "class SwinTransformer(nn.Module):\n",
    "        def __init__(self, class_num=100, C=96, num_heads=[3, 6, 12, 24], window_size=7, swin_num_list=[1, 1, 3, 1],\n",
    "                     norm=True, img_size=224, dropout=0.1, ffn_dim=384):\n",
    "            super(SwinTransformer, self).__init__()\n",
    "            self.preprocessing = PreProcessing(hid_dim=C, norm=norm, img_size=img_size)\n",
    "    \n",
    "            features_list = [C, C * 2, C * 4, C * 8]\n",
    "    \n",
    "            stages = nn.ModuleList([])\n",
    "            stage_layer = SwinTransformerLayer(C=features_list[0], num_heads=num_heads[0], window_size=window_size,\n",
    "                                               ffn_dim=ffn_dim, act_layer=nn.GELU, dropout=dropout)\n",
    "            stages.append(SwinTransformerBlock(stage_layer, swin_num_list[0]))\n",
    "            for i in range(1, 4):\n",
    "                stages.append(PatchMerging(features_list[i - 1]))\n",
    "                stage_layer = SwinTransformerLayer(C=features_list[i], num_heads=num_heads[i], window_size=window_size,\n",
    "                                                   ffn_dim=ffn_dim, act_layer=nn.GELU, dropout=dropout)\n",
    "                stages.append(SwinTransformerBlock(stage_layer, swin_num_list[i]))\n",
    "    \n",
    "            self.stages = stages\n",
    "            self.avgpool = nn.AdaptiveAvgPool1d(1)\n",
    "            self.feature = features_list[-1]\n",
    "            self.head = nn.Linear(features_list[-1], class_num)\n",
    "    \n",
    "        def forward(self, x):\n",
    "            BS, H, W, C = x.size()\n",
    "            x = self.preprocessing(x)  # BS, L, C\n",
    "            for stage in self.stages:\n",
    "                x = stage(x)\n",
    "    \n",
    "            x = x.view(BS, -1, self.feature)\n",
    "    \n",
    "            x = self.avgpool(x.transpose(1, 2))\n",
    "            x = torch.flatten(x, 1)\n",
    "            x = self.head(x)\n",
    "            return"
   ]
  },
  {
   "attachments": {},
   "cell_type": "markdown",
   "metadata": {},
   "source": [
    "## PreProcessing"
   ]
  },
  {
   "cell_type": "code",
   "execution_count": null,
   "metadata": {},
   "outputs": [],
   "source": [
    "class PreProcessing(nn.Module):  # patch partition, embedding,\n",
    "    def __init__(self, hid_dim=96, norm=True, img_size=224):\n",
    "        super().__init__()\n",
    "        self.embed = nn.Conv2d(3, hid_dim, kernel_size=4, stride=4)\n",
    "        self.norm_layer = None\n",
    "        self.norm = norm\n",
    "        if self.norm:\n",
    "            self.norm_layer = nn.LayerNorm(hid_dim)\n",
    "\n",
    "        self.num_patches = img_size // 4\n",
    "\n",
    "        self.hid_dim = hid_dim\n",
    "\n",
    "    def forward(self, x):\n",
    "        BS, H, W, C = x.size()\n",
    "\n",
    "        x = self.embed(x).flatten(2).transpose(1, 2)  # BS, C, L -> BS, L, C\n",
    "\n",
    "        if self.norm:\n",
    "            self.norm_layer(x)\n",
    "\n",
    "        return x  # [Bs, L, C]"
   ]
  },
  {
   "attachments": {},
   "cell_type": "markdown",
   "metadata": {},
   "source": [
    "## SwinTransformerBlock"
   ]
  },
  {
   "cell_type": "code",
   "execution_count": null,
   "metadata": {},
   "outputs": [],
   "source": [
    "def _clone_layer(layer, num_layers):\n",
    "    return nn.ModuleList([copy.deepcopy(layer) for _ in range(num_layers)])\n",
    "\n",
    "\n",
    "class SwinTransformerBlock(nn.Module):\n",
    "    def __init__(self, layer, num_layers):\n",
    "        super().__init__()\n",
    "        self.layers = _clone_layer(layer, num_layers)\n",
    "\n",
    "    def forward(self ,x):\n",
    "        for layer in self.layers:\n",
    "            x = layer(x)\n",
    "\n",
    "        return x"
   ]
  },
  {
   "attachments": {},
   "cell_type": "markdown",
   "metadata": {},
   "source": [
    "## SwinTransformerLayer"
   ]
  },
  {
   "cell_type": "code",
   "execution_count": null,
   "metadata": {},
   "outputs": [],
   "source": [
    "def window_partition(x, window_size):\n",
    "    # B, H, W, C : x.size -> B*Window_num, window_size, window_size, C\n",
    "    B, H, W, C = x.size()\n",
    "    x = x.view(B, H // window_size, window_size, W // window_size, window_size, C)\n",
    "    windows = x.permute(0, 1, 3, 2, 4, 5).contiguous().view(-1, window_size, window_size, C)\n",
    "    return windows\n",
    "    \n",
    "\n",
    "def window_reverse(x, window_size, H, W):\n",
    "    # B*Window_num, window_size, window_size, C - > B, H, W, C\n",
    "    WN = (H//window_size)**2\n",
    "    B = x.size()[0]//WN\n",
    "    x = x.view(B, H // window_size, W // window_size, window_size, window_size, -1)\n",
    "    x = x.permute(0, 1, 3, 2, 4, 5).contiguous().view(B, H, W, -1)\n",
    "    return x\n",
    "\n",
    "\n",
    "class SwinTransformerLayer(nn.Module):\n",
    "    def __init__(self, C, num_heads, window_size, ffn_dim, act_layer=nn.GELU, dropout=0.1):\n",
    "        super().__init__()\n",
    "        self.mlp1 = Mlp(C, ffn_dim, act_layer=nn.GELU, drop=dropout)\n",
    "        self.mlp2 = Mlp(C, ffn_dim, act_layer=nn.GELU, drop=dropout)\n",
    "\n",
    "        self.norm1 = nn.LayerNorm(C)\n",
    "        self.norm2 = nn.LayerNorm(C)\n",
    "        self.norm3 = nn.LayerNorm(C)\n",
    "        self.norm4 = nn.LayerNorm(C)\n",
    "\n",
    "        self.shift_size = window_size // 2\n",
    "        self.window_size = window_size\n",
    "        self.W_MSA = SwinAttention(num_heads=num_heads, C=C, dropout=dropout)\n",
    "        self.SW_MSA = SwinAttention(num_heads=num_heads, C=C, dropout=dropout)\n",
    "\n",
    "    def forward(self, x):  # BS, L, C\n",
    "        BS, L, C = x.shape\n",
    "        S = int(math.sqrt(L))\n",
    "\n",
    "        shortcut = x\n",
    "\n",
    "        x = self.norm1(x)  # BS, L, C\n",
    "\n",
    "        x_windows = self.window_to_attention(x, S, C)\n",
    "\n",
    "        attn_x = self.W_MSA(x_windows)\n",
    "\n",
    "        x = self.attention_to_og(attn_x, S, C)\n",
    "\n",
    "        x = x + shortcut\n",
    "\n",
    "        shorcut = x\n",
    "\n",
    "        x = self.norm2(x)\n",
    "        x = self.mlp1(x)\n",
    "\n",
    "        x = x + shortcut\n",
    "\n",
    "        shortcut = x\n",
    "\n",
    "        x = self.norm3(x)\n",
    "\n",
    "        x_windows = self.window_to_attention(x, S, C, shift=True)\n",
    "\n",
    "        x_attn = self.SW_MSA(x_windows)\n",
    "\n",
    "        x = self.attention_to_og(x, S, C, shift=True)\n",
    "\n",
    "        x = x + shortcut\n",
    "\n",
    "        shortcut = x\n",
    "\n",
    "        x = self.norm4(x)\n",
    "        x = self.mlp2(x)\n",
    "\n",
    "        return x + shortcut\n",
    "\n",
    "    def window_to_attention(self, x, S, C, shift=False):\n",
    "        x = x.view(-1, S, S, C)\n",
    "        if shift: # => shifted 역할\n",
    "            x = torch.roll(x, shifts=(-self.shift_size, -self.shift_size), dims=(1, 2))\n",
    "        # B, L, C 를 -> B, W, H, C로 바꿔줌\n",
    "        x_windows = window_partition(x, self.window_size)\n",
    "        x_windows = x_windows.view(-1, self.window_size * self.window_size, C)\n",
    "        return x_windows\n",
    "\n",
    "    def attention_to_og(self, attn_x, S, C, shift=False):\n",
    "        attn_x = attn_x.view(-1, self.window_size, self.window_size, C)\n",
    "        x = window_reverse(attn_x, self.window_size, S, S)\n",
    "        if shift:\n",
    "            x = torch.roll(x, shifts=(self.shift_size, self.shift_size), dims=(1, 2))\n",
    "        x = x.view(-1, S * S, C)\n",
    "        return x"
   ]
  },
  {
   "attachments": {},
   "cell_type": "markdown",
   "metadata": {},
   "source": [
    "## SwinAttention"
   ]
  },
  {
   "cell_type": "code",
   "execution_count": null,
   "metadata": {},
   "outputs": [],
   "source": [
    "def _get_rel_pos_bias(self) -> torch.Tensor:\n",
    "    relative_position_bias = self.relative_position_bias_table[\n",
    "        self.relative_position_index.view(-1)].view(self.window_area, self.window_area, -1)  # Wh*Ww,Wh*Ww,nH\n",
    "    self.relative_position_bias = relative_position_bias.permute(2, 0, 1).contiguous()  # nH, Wh*Ww, Wh*Ww\n",
    "    return relative_position_bias.unsqueeze(0)\n",
    "\n",
    "\n",
    "class SwinAttention(nn.Module):\n",
    "    def __init__(self, num_heads, C, dropout):\n",
    "        super().__init__()\n",
    "\n",
    "        self.scale = C ** -0.5\n",
    "\n",
    "        self.qkv = nn.Linear(C, C * 3, bias=True)\n",
    "        self.num_heads = num_heads\n",
    "\n",
    "        self.softmax = nn.Softmax(dim=-1)\n",
    "\n",
    "        self.attn_drop = nn.Dropout(0.1)\n",
    "\n",
    "        self.proj = nn.Linear(C, C)\n",
    "        self.proj_drop = nn.Dropout(0.1)\n",
    "                \n",
    "        # from timm\n",
    "        # https://github.com/rwightman/pytorch-image-models/blob/main/timm/models/swin_transformer.py#L134\n",
    "        self.win_h = 7\n",
    "        self.win_w = 7\n",
    "        # define a parameter table of relative position bias, shape: 2*Wh-1 * 2*Ww-1, nH\n",
    "        self.relative_position_bias_table = nn.Parameter(torch.zeros((2 * win_h - 1) * (2 * win_w - 1), num_heads))\n",
    "                # get pair-wise relative position index for each token inside the window\n",
    "        self.register_buffer(\"relative_position_index\", get_relative_position_index(win_h, win_w))\n",
    "\n",
    "    def forward(self, x):  # BS, L, C\n",
    "        # x = [B, H, W, C]\n",
    "        B, L, C = x.shape\n",
    "\n",
    "        qkv = self.qkv(x).reshape(B, L, 3, self.num_heads, C // self.num_heads).permute(2, 0, 3, 1,\n",
    "                                                                                        4)  # 3, B, Head, L, C_v\n",
    "\n",
    "        q, k, v = qkv[0], qkv[1], qkv[2]\n",
    "\n",
    "        q = q * self.scale\n",
    "\n",
    "        attn = (q @ k.transpose(-1, -2))  # dot product\n",
    "\n",
    "        attn_score = self.softmax(attn + self.relative_position_bias)\n",
    "        attn_score = self.attn_drop(attn_score)  # L, L\n",
    "        # B, Head, L, C_v\n",
    "\n",
    "        out = (attn @ v).transpose(1, 2).flatten(-2)  # B, L, C\n",
    "\n",
    "        out = self.proj(out)\n",
    "        out = self.proj_drop(out)\n",
    "\n",
    "        return out"
   ]
  },
  {
   "attachments": {},
   "cell_type": "markdown",
   "metadata": {},
   "source": [
    "## Mlp"
   ]
  },
  {
   "cell_type": "code",
   "execution_count": null,
   "metadata": {},
   "outputs": [],
   "source": [
    "class Mlp(nn.Module):\n",
    "    def __init__(self, in_features, hidden_features=None, act_layer=nn.GELU, drop=0.1):\n",
    "        super().__init__()\n",
    "        self.fc1 = nn.Linear(in_features, hidden_features)\n",
    "        self.act = act_layer()\n",
    "        self.fc2 = nn.Linear(hidden_features, in_features)\n",
    "        self.drop = nn.Dropout(drop)\n",
    "\n",
    "    def forward(self, x):\n",
    "        x = self.fc1(x)\n",
    "        x = self.act(x)\n",
    "        x = self.drop(x)\n",
    "        x = self.fc2(x)\n",
    "        x = self.drop(x)\n",
    "        return x"
   ]
  },
  {
   "attachments": {},
   "cell_type": "markdown",
   "metadata": {},
   "source": [
    "## PatchMerging"
   ]
  },
  {
   "cell_type": "code",
   "execution_count": null,
   "metadata": {},
   "outputs": [],
   "source": [
    "class PatchMerging(nn.Module):\n",
    "    def __init__(self,C):\n",
    "        super().__init__()\n",
    "        self.proj = nn.Linear(C*4, C*2)\n",
    "\n",
    "    def forward(self ,x): # BS,H,W,C\n",
    "        BS, L, C = x.size()\n",
    "        H = int(math.sqrt(L))\n",
    "        x = x.view(BS, H//2, H//2, C*4)\n",
    "        x = self.proj(x)\n",
    "        x = x.view(BS, -1, C*2)\n",
    "        return x"
   ]
  },
  {
   "attachments": {},
   "cell_type": "markdown",
   "metadata": {},
   "source": [
    "---\n",
    "\n",
    "Author by `임중섭`  \n",
    "Edit by `김주영`"
   ]
  }
 ],
 "metadata": {
  "kernelspec": {
   "display_name": "Python 3",
   "language": "python",
   "name": "python3"
  },
  "language_info": {
   "name": "python",
   "version": "3.10.8 (main, Oct 13 2022, 09:48:40) [Clang 14.0.0 (clang-1400.0.29.102)]"
  },
  "vscode": {
   "interpreter": {
    "hash": "b0fa6594d8f4cbf19f97940f81e996739fb7646882a419484c72d19e05852a7e"
   }
  }
 },
 "nbformat": 4,
 "nbformat_minor": 2
}